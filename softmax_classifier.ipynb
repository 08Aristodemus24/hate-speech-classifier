{
 "cells": [
  {
   "attachments": {},
   "cell_type": "markdown",
   "metadata": {},
   "source": [
    "This notebook aims to train and validate the softmax classifier as to compare its performance to that of an LSTM neural network for hate speech classification\n",
    "\n",
    "# Import Libraries"
   ]
  },
  {
   "cell_type": "code",
   "execution_count": 32,
   "metadata": {},
   "outputs": [
    {
     "name": "stdout",
     "output_type": "stream",
     "text": [
      "The autoreload extension is already loaded. To reload it, use:\n",
      "  %reload_ext autoreload\n"
     ]
    }
   ],
   "source": [
    "import pandas as pd\n",
    "import numpy as np\n",
    "\n",
    "from sklearn.model_selection import train_test_split\n",
    "from sklearn.metrics import accuracy_score\n",
    "from sklearn.metrics import precision_score\n",
    "from sklearn.metrics import recall_score\n",
    "from sklearn.metrics import f1_score\n",
    "from sklearn.metrics import confusion_matrix\n",
    "\n",
    "import tensorflow as tf\n",
    "from tensorflow import one_hot\n",
    "from tensorflow.keras.preprocessing.text import Tokenizer\n",
    "\n",
    "from utilities.data_preprocessors import read_preprocess, series_to_1D_array, construct_embedding_dict, construct_embedding_matrix, sentences_to_avgs\n",
    "from utilities.data_visualizers import train_cross_results_v2, view_final_metrics\n",
    "from models.softmax_regression import SoftmaxRegression\n",
    "\n",
    "%load_ext autoreload\n",
    "%autoreload 2"
   ]
  },
  {
   "attachments": {},
   "cell_type": "markdown",
   "metadata": {},
   "source": [
    "# Load data"
   ]
  },
  {
   "cell_type": "code",
   "execution_count": 33,
   "metadata": {},
   "outputs": [],
   "source": [
    "# 1 for religious and 0 for non religious\n",
    "df = pd.read_csv('./data/hate-speech-data-cleaned.csv', index_col=0)\n",
    "df = read_preprocess(df)\n",
    "\n",
    "all_words = pd.Series(series_to_1D_array(df['comment']))\n",
    "all_unique_words_counts = all_words.value_counts()\n",
    "all_unique_words = all_words.unique()\n"
   ]
  },
  {
   "cell_type": "code",
   "execution_count": 34,
   "metadata": {},
   "outputs": [
    {
     "data": {
      "text/plain": [
       "2    22395\n",
       "1    21644\n",
       "0    19743\n",
       "3     1998\n",
       "Name: label, dtype: int64"
      ]
     },
     "execution_count": 34,
     "metadata": {},
     "output_type": "execute_result"
    }
   ],
   "source": [
    "df['label'].value_counts()"
   ]
  },
  {
   "attachments": {},
   "cell_type": "markdown",
   "metadata": {},
   "source": [
    "# Preprocess data"
   ]
  },
  {
   "cell_type": "code",
   "execution_count": 35,
   "metadata": {},
   "outputs": [
    {
     "data": {
      "text/html": [
       "<div>\n",
       "<style scoped>\n",
       "    .dataframe tbody tr th:only-of-type {\n",
       "        vertical-align: middle;\n",
       "    }\n",
       "\n",
       "    .dataframe tbody tr th {\n",
       "        vertical-align: top;\n",
       "    }\n",
       "\n",
       "    .dataframe thead th {\n",
       "        text-align: right;\n",
       "    }\n",
       "</style>\n",
       "<table border=\"1\" class=\"dataframe\">\n",
       "  <thead>\n",
       "    <tr style=\"text-align: right;\">\n",
       "      <th></th>\n",
       "      <th>comment</th>\n",
       "      <th>label</th>\n",
       "    </tr>\n",
       "  </thead>\n",
       "  <tbody>\n",
       "    <tr>\n",
       "      <th>0</th>\n",
       "      <td>woman complain cleaning house man always take ...</td>\n",
       "      <td>1</td>\n",
       "    </tr>\n",
       "    <tr>\n",
       "      <th>1</th>\n",
       "      <td>boy dat coldtyga dwn bad cuffin dat hoe st place</td>\n",
       "      <td>0</td>\n",
       "    </tr>\n",
       "    <tr>\n",
       "      <th>2</th>\n",
       "      <td>dawg ever fuck bitch start cry confused shit</td>\n",
       "      <td>0</td>\n",
       "    </tr>\n",
       "    <tr>\n",
       "      <th>3</th>\n",
       "      <td>look like tranny</td>\n",
       "      <td>0</td>\n",
       "    </tr>\n",
       "    <tr>\n",
       "      <th>4</th>\n",
       "      <td>shit hear might true might faker bitch told ya</td>\n",
       "      <td>0</td>\n",
       "    </tr>\n",
       "    <tr>\n",
       "      <th>...</th>\n",
       "      <td>...</td>\n",
       "      <td>...</td>\n",
       "    </tr>\n",
       "    <tr>\n",
       "      <th>65775</th>\n",
       "      <td>from the midnight sun where the hot spring blow</td>\n",
       "      <td>1</td>\n",
       "    </tr>\n",
       "    <tr>\n",
       "      <th>65776</th>\n",
       "      <td>do not say am not your type</td>\n",
       "      <td>1</td>\n",
       "    </tr>\n",
       "    <tr>\n",
       "      <th>65777</th>\n",
       "      <td>and therefor never send to know for whom the b...</td>\n",
       "      <td>1</td>\n",
       "    </tr>\n",
       "    <tr>\n",
       "      <th>65778</th>\n",
       "      <td>and cannot stand anoth day</td>\n",
       "      <td>1</td>\n",
       "    </tr>\n",
       "    <tr>\n",
       "      <th>65779</th>\n",
       "      <td>all valu unless otherwis state are in american...</td>\n",
       "      <td>1</td>\n",
       "    </tr>\n",
       "  </tbody>\n",
       "</table>\n",
       "<p>65780 rows × 2 columns</p>\n",
       "</div>"
      ],
      "text/plain": [
       "                                                 comment  label\n",
       "0      woman complain cleaning house man always take ...      1\n",
       "1       boy dat coldtyga dwn bad cuffin dat hoe st place      0\n",
       "2           dawg ever fuck bitch start cry confused shit      0\n",
       "3                                       look like tranny      0\n",
       "4         shit hear might true might faker bitch told ya      0\n",
       "...                                                  ...    ...\n",
       "65775    from the midnight sun where the hot spring blow      1\n",
       "65776                        do not say am not your type      1\n",
       "65777  and therefor never send to know for whom the b...      1\n",
       "65778                         and cannot stand anoth day      1\n",
       "65779  all valu unless otherwis state are in american...      1\n",
       "\n",
       "[65780 rows x 2 columns]"
      ]
     },
     "execution_count": 35,
     "metadata": {},
     "output_type": "execute_result"
    }
   ],
   "source": [
    "# rejoin the comment columns values of lists of words to sentences\n",
    "df['comment'] = df['comment'].apply(lambda comment: \" \".join(comment))\n",
    "df"
   ]
  },
  {
   "cell_type": "code",
   "execution_count": 36,
   "metadata": {},
   "outputs": [
    {
     "data": {
      "text/plain": [
       "array([[0., 1., 0., 0.],\n",
       "       [1., 0., 0., 0.],\n",
       "       [1., 0., 0., 0.],\n",
       "       ...,\n",
       "       [0., 1., 0., 0.],\n",
       "       [0., 1., 0., 0.],\n",
       "       [0., 1., 0., 0.]])"
      ]
     },
     "execution_count": 36,
     "metadata": {},
     "output_type": "execute_result"
    }
   ],
   "source": [
    "# at the same time one hot encode the y labels/classes\n",
    "len_unique_labels = len(df['label'].unique())\n",
    "Y_oh = one_hot(df['label'], len_unique_labels, dtype=tf.float64).numpy()\n",
    "Y_oh"
   ]
  },
  {
   "attachments": {},
   "cell_type": "markdown",
   "metadata": {},
   "source": [
    "# Retrieving and assigning important variables for training classifier"
   ]
  },
  {
   "cell_type": "code",
   "execution_count": 37,
   "metadata": {},
   "outputs": [
    {
     "name": "stdout",
     "output_type": "stream",
     "text": [
      "47916\n"
     ]
    }
   ],
   "source": [
    "sents = df['comment']\n",
    "\n",
    "# get number of all unique words\n",
    "num_words_3 = len(all_unique_words)\n",
    "\n",
    "# instantiate Tokenizer on the total number of all unique words\n",
    "tokenizer = Tokenizer(num_words=num_words_3, split=' ')\n",
    "\n",
    "# call .fit_on_texts to create the word_index and index_word dicts\n",
    "tokenizer.fit_on_texts(sents)\n",
    "\n",
    "# save the tokenizer dictionaries for use later when loading GloVe embeddings\n",
    "word_to_index = tokenizer.word_index\n",
    "index_to_word = tokenizer.index_word\n",
    "print(len(word_to_index))\n",
    "# print(word_to_index)"
   ]
  },
  {
   "cell_type": "code",
   "execution_count": 38,
   "metadata": {},
   "outputs": [
    {
     "name": "stderr",
     "output_type": "stream",
     "text": [
      "100%|██████████| 47916/47916 [00:00<00:00, 190547.51it/s]\n"
     ]
    }
   ],
   "source": [
    "# important variables\n",
    "\n",
    "# includes oov words\n",
    "emb_dict, emb_vec_len = construct_embedding_dict('./embeddings/glove.42B.300d.txt', word_to_index)\n",
    "emb_matrix = construct_embedding_matrix(word_to_index, emb_dict, emb_vec_len)"
   ]
  },
  {
   "attachments": {},
   "cell_type": "markdown",
   "metadata": {},
   "source": [
    "# Transform all sentences to word vectors"
   ]
  },
  {
   "cell_type": "code",
   "execution_count": 39,
   "metadata": {},
   "outputs": [],
   "source": [
    "vect_sents = sentences_to_avgs(sents, emb_dict)"
   ]
  },
  {
   "cell_type": "code",
   "execution_count": 40,
   "metadata": {},
   "outputs": [
    {
     "data": {
      "text/plain": [
       "array([[ 0.00396263,  0.36776125, -0.04045763, ..., -0.06078575,\n",
       "         0.09397175, -0.05599563],\n",
       "       [ 0.29468613,  0.39194278,  0.03957122, ..., -0.03101056,\n",
       "         0.32691778,  0.10542444],\n",
       "       [-0.30736394,  0.26374987, -0.06718987, ...,  0.0969691 ,\n",
       "         0.08005263,  0.15465625],\n",
       "       ...,\n",
       "       [-0.152688  , -0.13310289, -0.10236191, ..., -0.16498182,\n",
       "        -0.04798355,  0.04919357],\n",
       "       [-0.0755652 ,  0.0974086 ,  0.1262868 , ..., -0.073394  ,\n",
       "        -0.1070248 ,  0.246028  ],\n",
       "       [ 0.009189  ,  0.167159  ,  0.03203911, ..., -0.15171311,\n",
       "         0.11298801, -0.13568356]])"
      ]
     },
     "execution_count": 40,
     "metadata": {},
     "output_type": "execute_result"
    }
   ],
   "source": [
    "vect_sents"
   ]
  },
  {
   "cell_type": "code",
   "execution_count": 41,
   "metadata": {},
   "outputs": [
    {
     "data": {
      "text/plain": [
       "(65780, 300)"
      ]
     },
     "execution_count": 41,
     "metadata": {},
     "output_type": "execute_result"
    }
   ],
   "source": [
    "vect_sents.shape"
   ]
  },
  {
   "cell_type": "code",
   "execution_count": 42,
   "metadata": {},
   "outputs": [
    {
     "data": {
      "text/plain": [
       "(65780, 4)"
      ]
     },
     "execution_count": 42,
     "metadata": {},
     "output_type": "execute_result"
    }
   ],
   "source": [
    "Y_oh.shape"
   ]
  },
  {
   "cell_type": "code",
   "execution_count": 43,
   "metadata": {},
   "outputs": [],
   "source": [
    "# split data into training, validation, adn testing\n",
    "train_seqs, _seqs, train_labels, _labels = train_test_split(vect_sents, Y_oh, test_size=0.3, random_state=0)\n",
    "val_seqs, test_seqs, val_labels, test_labels = train_test_split(_seqs, _labels, test_size=0.3, random_state=0)"
   ]
  },
  {
   "cell_type": "code",
   "execution_count": 44,
   "metadata": {},
   "outputs": [
    {
     "data": {
      "text/plain": [
       "dtype('float64')"
      ]
     },
     "execution_count": 44,
     "metadata": {},
     "output_type": "execute_result"
    }
   ],
   "source": [
    "Y_oh.dtype"
   ]
  },
  {
   "cell_type": "code",
   "execution_count": 45,
   "metadata": {},
   "outputs": [
    {
     "data": {
      "text/plain": [
       "dtype('float64')"
      ]
     },
     "execution_count": 45,
     "metadata": {},
     "output_type": "execute_result"
    }
   ],
   "source": [
    "vect_sents.dtype"
   ]
  },
  {
   "cell_type": "code",
   "execution_count": 46,
   "metadata": {},
   "outputs": [
    {
     "name": "stdout",
     "output_type": "stream",
     "text": [
      "cost at epoch 0: 162996.09521357552\n",
      "\n",
      "X: [[ 0.02708175  0.47044817  0.18923007 ... -0.0343382   0.35896\n",
      "   0.27308767]\n",
      " [-0.12678987  0.09937867  0.04194175 ...  0.13927112 -0.10986017\n",
      "  -0.07399225]\n",
      " [-0.26337     0.00439517 -0.1046755  ... -0.154265   -0.079524\n",
      "   0.04381183]\n",
      " ...\n",
      " [-0.1019577   0.0617342  -0.1010602  ...  0.03023214  0.1450732\n",
      "  -0.0139125 ]\n",
      " [-0.10290336 -0.02500957 -0.02904179 ... -0.02527524 -0.04293543\n",
      "  -0.05183536]\n",
      " [ 0.12414733  0.26969333 -0.35683567 ... -0.09642867  0.05023667\n",
      "  -0.154721  ]]\n",
      "\n",
      "Y: [[1. 0. 0. 0.]\n",
      " [0. 0. 1. 0.]\n",
      " [0. 0. 1. 0.]\n",
      " ...\n",
      " [0. 1. 0. 0.]\n",
      " [0. 0. 1. 0.]\n",
      " [0. 0. 1. 0.]]\n",
      "\n",
      "THETA: <tf.Variable 'Variable:0' shape=(300, 4) dtype=float64, numpy=\n",
      "array([[ 0.48281743,  1.27952079, -0.25019654,  0.62846009],\n",
      "       [-0.04097985,  1.15469777, -0.34465904,  1.36942272],\n",
      "       [ 0.25518761, -0.31863906,  0.01493292,  1.90266109],\n",
      "       ...,\n",
      "       [-0.74149758, -1.40061162, -0.45708445, -0.39673116],\n",
      "       [ 1.83935818,  0.6307419 ,  1.33891127, -1.24808904],\n",
      "       [ 0.96297667,  0.4859952 ,  0.71613702, -0.67098518]])>\n",
      "\n",
      "BETA: <tf.Variable 'Variable:0' shape=(1, 4) dtype=float64, numpy=array([[ 0.0299998, -0.0299998, -0.0299998, -0.0299998]])>\n",
      "\n",
      "cost at epoch 500: 25700.311110083134\n",
      "\n",
      "X: [[ 0.02708175  0.47044817  0.18923007 ... -0.0343382   0.35896\n",
      "   0.27308767]\n",
      " [-0.12678987  0.09937867  0.04194175 ...  0.13927112 -0.10986017\n",
      "  -0.07399225]\n",
      " [-0.26337     0.00439517 -0.1046755  ... -0.154265   -0.079524\n",
      "   0.04381183]\n",
      " ...\n",
      " [-0.1019577   0.0617342  -0.1010602  ...  0.03023214  0.1450732\n",
      "  -0.0139125 ]\n",
      " [-0.10290336 -0.02500957 -0.02904179 ... -0.02527524 -0.04293543\n",
      "  -0.05183536]\n",
      " [ 0.12414733  0.26969333 -0.35683567 ... -0.09642867  0.05023667\n",
      "  -0.154721  ]]\n",
      "\n",
      "Y: [[1. 0. 0. 0.]\n",
      " [0. 0. 1. 0.]\n",
      " [0. 0. 1. 0.]\n",
      " ...\n",
      " [0. 1. 0. 0.]\n",
      " [0. 0. 1. 0.]\n",
      " [0. 0. 1. 0.]]\n",
      "\n",
      "THETA: <tf.Variable 'Variable:0' shape=(300, 4) dtype=float64, numpy=\n",
      "array([[ 0.85086263, -0.31667582,  0.32380953,  0.56853171],\n",
      "       [ 1.04810416, -1.16760546,  0.20185719,  0.98010616],\n",
      "       [ 0.0375864 ,  0.03783205,  0.14472809,  0.93361824],\n",
      "       ...,\n",
      "       [-1.12918705, -0.59684019, -1.8212834 ,  1.31608844],\n",
      "       [ 1.10635012,  1.63437983,  1.36038947,  0.42566696],\n",
      "       [ 1.26003285,  0.35502411, -0.03934698, -0.55411688]])>\n",
      "\n",
      "BETA: <tf.Variable 'Variable:0' shape=(1, 4) dtype=float64, numpy=array([[-0.07641899,  1.34451997, -0.01414023, -0.93685813]])>\n",
      "\n",
      "cost at epoch 1000: 25422.000715220143\n",
      "\n",
      "X: [[ 0.02708175  0.47044817  0.18923007 ... -0.0343382   0.35896\n",
      "   0.27308767]\n",
      " [-0.12678987  0.09937867  0.04194175 ...  0.13927112 -0.10986017\n",
      "  -0.07399225]\n",
      " [-0.26337     0.00439517 -0.1046755  ... -0.154265   -0.079524\n",
      "   0.04381183]\n",
      " ...\n",
      " [-0.1019577   0.0617342  -0.1010602  ...  0.03023214  0.1450732\n",
      "  -0.0139125 ]\n",
      " [-0.10290336 -0.02500957 -0.02904179 ... -0.02527524 -0.04293543\n",
      "  -0.05183536]\n",
      " [ 0.12414733  0.26969333 -0.35683567 ... -0.09642867  0.05023667\n",
      "  -0.154721  ]]\n",
      "\n",
      "Y: [[1. 0. 0. 0.]\n",
      " [0. 0. 1. 0.]\n",
      " [0. 0. 1. 0.]\n",
      " ...\n",
      " [0. 1. 0. 0.]\n",
      " [0. 0. 1. 0.]\n",
      " [0. 0. 1. 0.]]\n",
      "\n",
      "THETA: <tf.Variable 'Variable:0' shape=(300, 4) dtype=float64, numpy=\n",
      "array([[ 0.63154817, -0.17764419,  0.4937245 ,  0.72560978],\n",
      "       [ 1.09865781, -1.21928059,  0.32461688,  0.7249132 ],\n",
      "       [ 0.19321814, -0.03711405,  0.07470279,  0.78057968],\n",
      "       ...,\n",
      "       [-1.12241832, -0.49554108, -1.76827728,  1.04585936],\n",
      "       [ 0.93117883,  1.62496161,  1.33159014,  1.34894591],\n",
      "       [ 1.27092387,  0.35000437, -0.33153418, -0.17487762]])>\n",
      "\n",
      "BETA: <tf.Variable 'Variable:0' shape=(1, 4) dtype=float64, numpy=array([[-0.30038143,  1.84308135,  0.48852305, -1.43420966]])>\n",
      "\n",
      "cost at epoch 1500: 25373.150573413426\n",
      "\n",
      "X: [[ 0.02708175  0.47044817  0.18923007 ... -0.0343382   0.35896\n",
      "   0.27308767]\n",
      " [-0.12678987  0.09937867  0.04194175 ...  0.13927112 -0.10986017\n",
      "  -0.07399225]\n",
      " [-0.26337     0.00439517 -0.1046755  ... -0.154265   -0.079524\n",
      "   0.04381183]\n",
      " ...\n",
      " [-0.1019577   0.0617342  -0.1010602  ...  0.03023214  0.1450732\n",
      "  -0.0139125 ]\n",
      " [-0.10290336 -0.02500957 -0.02904179 ... -0.02527524 -0.04293543\n",
      "  -0.05183536]\n",
      " [ 0.12414733  0.26969333 -0.35683567 ... -0.09642867  0.05023667\n",
      "  -0.154721  ]]\n",
      "\n",
      "Y: [[1. 0. 0. 0.]\n",
      " [0. 0. 1. 0.]\n",
      " [0. 0. 1. 0.]\n",
      " ...\n",
      " [0. 1. 0. 0.]\n",
      " [0. 0. 1. 0.]\n",
      " [0. 0. 1. 0.]]\n",
      "\n",
      "THETA: <tf.Variable 'Variable:0' shape=(300, 4) dtype=float64, numpy=\n",
      "array([[ 0.61063916, -0.13351591,  0.53210699,  0.64894384],\n",
      "       [ 1.09011705, -1.16067983,  0.4015209 ,  0.53563998],\n",
      "       [ 0.26943711, -0.06548884,  0.03193974,  0.71298346],\n",
      "       ...,\n",
      "       [-1.07942432, -0.46231407, -1.72304308,  0.81169591],\n",
      "       [ 0.88440112,  1.57588954,  1.27413379,  1.80107028],\n",
      "       [ 1.31314862,  0.23494386, -0.47710777,  0.04703428]])>\n",
      "\n",
      "BETA: <tf.Variable 'Variable:0' shape=(1, 4) dtype=float64, numpy=array([[-0.31848833,  2.06661165,  0.73487615, -1.88564692]])>\n",
      "\n",
      "cost at epoch 2000: 25355.91990875188\n",
      "\n",
      "X: [[ 0.02708175  0.47044817  0.18923007 ... -0.0343382   0.35896\n",
      "   0.27308767]\n",
      " [-0.12678987  0.09937867  0.04194175 ...  0.13927112 -0.10986017\n",
      "  -0.07399225]\n",
      " [-0.26337     0.00439517 -0.1046755  ... -0.154265   -0.079524\n",
      "   0.04381183]\n",
      " ...\n",
      " [-0.1019577   0.0617342  -0.1010602  ...  0.03023214  0.1450732\n",
      "  -0.0139125 ]\n",
      " [-0.10290336 -0.02500957 -0.02904179 ... -0.02527524 -0.04293543\n",
      "  -0.05183536]\n",
      " [ 0.12414733  0.26969333 -0.35683567 ... -0.09642867  0.05023667\n",
      "  -0.154721  ]]\n",
      "\n",
      "Y: [[1. 0. 0. 0.]\n",
      " [0. 0. 1. 0.]\n",
      " [0. 0. 1. 0.]\n",
      " ...\n",
      " [0. 1. 0. 0.]\n",
      " [0. 0. 1. 0.]\n",
      " [0. 0. 1. 0.]]\n",
      "\n",
      "THETA: <tf.Variable 'Variable:0' shape=(300, 4) dtype=float64, numpy=\n",
      "array([[ 0.63976357, -0.11558545,  0.55204246,  0.48486432],\n",
      "       [ 1.09835115, -1.1262649 ,  0.43709841,  0.38644999],\n",
      "       [ 0.26781959, -0.06794945,  0.02286705,  0.76579964],\n",
      "       ...,\n",
      "       [-1.05755887, -0.45113913, -1.70876349,  0.71534127],\n",
      "       [ 0.85949077,  1.55618954,  1.25369808,  2.00750472],\n",
      "       [ 1.33146859,  0.19311527, -0.52305042,  0.10797958]])>\n",
      "\n",
      "BETA: <tf.Variable 'Variable:0' shape=(1, 4) dtype=float64, numpy=array([[-0.24752118,  2.17596655,  0.84871385, -2.32199842]])>\n",
      "\n",
      "cost at epoch 2500: 25347.41044133428\n",
      "\n",
      "X: [[ 0.02708175  0.47044817  0.18923007 ... -0.0343382   0.35896\n",
      "   0.27308767]\n",
      " [-0.12678987  0.09937867  0.04194175 ...  0.13927112 -0.10986017\n",
      "  -0.07399225]\n",
      " [-0.26337     0.00439517 -0.1046755  ... -0.154265   -0.079524\n",
      "   0.04381183]\n",
      " ...\n",
      " [-0.1019577   0.0617342  -0.1010602  ...  0.03023214  0.1450732\n",
      "  -0.0139125 ]\n",
      " [-0.10290336 -0.02500957 -0.02904179 ... -0.02527524 -0.04293543\n",
      "  -0.05183536]\n",
      " [ 0.12414733  0.26969333 -0.35683567 ... -0.09642867  0.05023667\n",
      "  -0.154721  ]]\n",
      "\n",
      "Y: [[1. 0. 0. 0.]\n",
      " [0. 0. 1. 0.]\n",
      " [0. 0. 1. 0.]\n",
      " ...\n",
      " [0. 1. 0. 0.]\n",
      " [0. 0. 1. 0.]\n",
      " [0. 0. 1. 0.]]\n",
      "\n",
      "THETA: <tf.Variable 'Variable:0' shape=(300, 4) dtype=float64, numpy=\n",
      "array([[ 0.6674542 , -0.1053142 ,  0.56381143,  0.34733976],\n",
      "       [ 1.11157063, -1.10666768,  0.45707382,  0.26364469],\n",
      "       [ 0.24602248, -0.06664561,  0.0218364 ,  0.86143817],\n",
      "       ...,\n",
      "       [-1.05019574, -0.44578465, -1.70274196,  0.67746601],\n",
      "       [ 0.85129411,  1.54885731,  1.24679498,  2.08097629],\n",
      "       [ 1.34401863,  0.19170759, -0.52506178,  0.06622197]])>\n",
      "\n",
      "BETA: <tf.Variable 'Variable:0' shape=(1, 4) dtype=float64, numpy=array([[-0.16983048,  2.24455803,  0.91712948, -2.74132505]])>\n",
      "\n",
      "cost at epoch 3000: 25342.599447877325\n",
      "\n",
      "X: [[ 0.02708175  0.47044817  0.18923007 ... -0.0343382   0.35896\n",
      "   0.27308767]\n",
      " [-0.12678987  0.09937867  0.04194175 ...  0.13927112 -0.10986017\n",
      "  -0.07399225]\n",
      " [-0.26337     0.00439517 -0.1046755  ... -0.154265   -0.079524\n",
      "   0.04381183]\n",
      " ...\n",
      " [-0.1019577   0.0617342  -0.1010602  ...  0.03023214  0.1450732\n",
      "  -0.0139125 ]\n",
      " [-0.10290336 -0.02500957 -0.02904179 ... -0.02527524 -0.04293543\n",
      "  -0.05183536]\n",
      " [ 0.12414733  0.26969333 -0.35683567 ... -0.09642867  0.05023667\n",
      "  -0.154721  ]]\n",
      "\n",
      "Y: [[1. 0. 0. 0.]\n",
      " [0. 0. 1. 0.]\n",
      " [0. 0. 1. 0.]\n",
      " ...\n",
      " [0. 1. 0. 0.]\n",
      " [0. 0. 1. 0.]\n",
      " [0. 0. 1. 0.]]\n",
      "\n",
      "THETA: <tf.Variable 'Variable:0' shape=(300, 4) dtype=float64, numpy=\n",
      "array([[ 0.68538212, -0.10112368,  0.5689361 ,  0.26450648],\n",
      "       [ 1.12200492, -1.09411492,  0.47020204,  0.1696129 ],\n",
      "       [ 0.22472617, -0.06632834,  0.02099753,  0.95849689],\n",
      "       ...,\n",
      "       [-1.04885448, -0.44338728, -1.69995192,  0.66456651],\n",
      "       [ 0.85032845,  1.54731905,  1.2458049 ,  2.09225253],\n",
      "       [ 1.35577748,  0.2007989 , -0.5160253 , -0.00835898]])>\n",
      "\n",
      "BETA: <tf.Variable 'Variable:0' shape=(1, 4) dtype=float64, numpy=array([[-0.10763166,  2.29538578,  0.96773579, -3.12614942]])>\n",
      "\n",
      "cost at epoch 3500: 25339.796446109423\n",
      "\n",
      "X: [[ 0.02708175  0.47044817  0.18923007 ... -0.0343382   0.35896\n",
      "   0.27308767]\n",
      " [-0.12678987  0.09937867  0.04194175 ...  0.13927112 -0.10986017\n",
      "  -0.07399225]\n",
      " [-0.26337     0.00439517 -0.1046755  ... -0.154265   -0.079524\n",
      "   0.04381183]\n",
      " ...\n",
      " [-0.1019577   0.0617342  -0.1010602  ...  0.03023214  0.1450732\n",
      "  -0.0139125 ]\n",
      " [-0.10290336 -0.02500957 -0.02904179 ... -0.02527524 -0.04293543\n",
      "  -0.05183536]\n",
      " [ 0.12414733  0.26969333 -0.35683567 ... -0.09642867  0.05023667\n",
      "  -0.154721  ]]\n",
      "\n",
      "Y: [[1. 0. 0. 0.]\n",
      " [0. 0. 1. 0.]\n",
      " [0. 0. 1. 0.]\n",
      " ...\n",
      " [0. 1. 0. 0.]\n",
      " [0. 0. 1. 0.]\n",
      " [0. 0. 1. 0.]]\n",
      "\n",
      "THETA: <tf.Variable 'Variable:0' shape=(300, 4) dtype=float64, numpy=\n",
      "array([[ 0.6964387 , -0.10049881,  0.57024882,  0.2224381 ],\n",
      "       [ 1.12822524, -1.08606658,  0.47906055,  0.10295338],\n",
      "       [ 0.20724227, -0.06667707,  0.02001986,  1.04425752],\n",
      "       ...,\n",
      "       [-1.05025363, -0.44251351, -1.6986751 ,  0.66362564],\n",
      "       [ 0.85149698,  1.54814045,  1.24718206,  2.07843821],\n",
      "       [ 1.36509189,  0.21041262, -0.50637683, -0.07960271]])>\n",
      "\n",
      "BETA: <tf.Variable 'Variable:0' shape=(1, 4) dtype=float64, numpy=array([[-0.06439089,  2.33243316,  1.00457441, -3.45698753]])>\n",
      "\n",
      "cost at epoch 4000: 25338.20846665024\n",
      "\n",
      "X: [[ 0.02708175  0.47044817  0.18923007 ... -0.0343382   0.35896\n",
      "   0.27308767]\n",
      " [-0.12678987  0.09937867  0.04194175 ...  0.13927112 -0.10986017\n",
      "  -0.07399225]\n",
      " [-0.26337     0.00439517 -0.1046755  ... -0.154265   -0.079524\n",
      "   0.04381183]\n",
      " ...\n",
      " [-0.1019577   0.0617342  -0.1010602  ...  0.03023214  0.1450732\n",
      "  -0.0139125 ]\n",
      " [-0.10290336 -0.02500957 -0.02904179 ... -0.02527524 -0.04293543\n",
      "  -0.05183536]\n",
      " [ 0.12414733  0.26969333 -0.35683567 ... -0.09642867  0.05023667\n",
      "  -0.154721  ]]\n",
      "\n",
      "Y: [[1. 0. 0. 0.]\n",
      " [0. 0. 1. 0.]\n",
      " [0. 0. 1. 0.]\n",
      " ...\n",
      " [0. 1. 0. 0.]\n",
      " [0. 0. 1. 0.]\n",
      " [0. 0. 1. 0.]]\n",
      "\n",
      "THETA: <tf.Variable 'Variable:0' shape=(300, 4) dtype=float64, numpy=\n",
      "array([[ 0.70404396, -0.10109463,  0.57022139,  0.20046347],\n",
      "       [ 1.13107307, -1.08115043,  0.48483544,  0.05862277],\n",
      "       [ 0.19350675, -0.0671311 ,  0.01917674,  1.11530234],\n",
      "       ...,\n",
      "       [-1.05292483, -0.44245975, -1.69823472,  0.66898062],\n",
      "       [ 0.85303612,  1.54966205,  1.2491774 ,  2.05557284],\n",
      "       [ 1.37074166,  0.21741879, -0.49932248, -0.13147059]])>\n",
      "\n",
      "BETA: <tf.Variable 'Variable:0' shape=(1, 4) dtype=float64, numpy=array([[-0.03776282,  2.35718295,  1.02905088, -3.71771022]])>\n",
      "\n",
      "cost at epoch 4500: 25337.342555414278\n",
      "\n",
      "X: [[ 0.02708175  0.47044817  0.18923007 ... -0.0343382   0.35896\n",
      "   0.27308767]\n",
      " [-0.12678987  0.09937867  0.04194175 ...  0.13927112 -0.10986017\n",
      "  -0.07399225]\n",
      " [-0.26337     0.00439517 -0.1046755  ... -0.154265   -0.079524\n",
      "   0.04381183]\n",
      " ...\n",
      " [-0.1019577   0.0617342  -0.1010602  ...  0.03023214  0.1450732\n",
      "  -0.0139125 ]\n",
      " [-0.10290336 -0.02500957 -0.02904179 ... -0.02527524 -0.04293543\n",
      "  -0.05183536]\n",
      " [ 0.12414733  0.26969333 -0.35683567 ... -0.09642867  0.05023667\n",
      "  -0.154721  ]]\n",
      "\n",
      "Y: [[1. 0. 0. 0.]\n",
      " [0. 0. 1. 0.]\n",
      " [0. 0. 1. 0.]\n",
      " ...\n",
      " [0. 1. 0. 0.]\n",
      " [0. 0. 1. 0.]\n",
      " [0. 0. 1. 0.]]\n",
      "\n",
      "THETA: <tf.Variable 'Variable:0' shape=(300, 4) dtype=float64, numpy=\n",
      "array([[ 0.70984136, -0.10186595,  0.57016178,  0.1857146 ],\n",
      "       [ 1.13171546, -1.07854791,  0.48836448,  0.03161286],\n",
      "       [ 0.18318835, -0.06751117,  0.01858722,  1.17116648],\n",
      "       ...,\n",
      "       [-1.05591908, -0.44277379, -1.69840479,  0.67703547],\n",
      "       [ 0.85432275,  1.55099584,  1.25100356,  2.03156208],\n",
      "       [ 1.37307671,  0.22144043, -0.495638  , -0.16081996]])>\n",
      "\n",
      "BETA: <tf.Variable 'Variable:0' shape=(1, 4) dtype=float64, numpy=array([[-0.02373993,  2.3717733 ,  1.04277927, -3.9007628 ]])>\n",
      "\n"
     ]
    }
   ],
   "source": [
    "model = SoftmaxRegression(train_seqs, train_labels)\n",
    "model.train(show_vars=False)"
   ]
  },
  {
   "cell_type": "code",
   "execution_count": 47,
   "metadata": {},
   "outputs": [],
   "source": [
    "\n",
    "# # predict probabilities for test set\n",
    "# yhat_probs = model.predict(testX, verbose=0)\n",
    "# # predict crisp classes for test set\n",
    "# yhat_classes = model.predict_classes(testX, verbose=0)\n",
    "\n",
    "# # reduce to 1d array\n",
    "# yhat_probs = yhat_probs[:, 0]\n",
    "# yhat_classes = yhat_classes[:, 0]\n",
    "\n",
    "# # accuracy: (tp + tn) / (p + n)\n",
    "# accuracy = accuracy_score(testy, yhat_classes)\n",
    "# print('Accuracy: %f' % accuracy)\n",
    "# # precision tp / (tp + fp)\n",
    "# precision = precision_score(testy, yhat_classes)\n",
    "# print('Precision: %f' % precision)\n",
    "# # recall: tp / (tp + fn)\n",
    "# recall = recall_score(testy, yhat_classes)\n",
    "# print('Recall: %f' % recall)\n",
    "# # f1: 2 tp / (2 tp + fp + fn)\n",
    "# f1 = f1_score(testy, yhat_classes)\n",
    "# print('F1 score: %f' % f1)\n",
    "\n",
    "# matrix = confusion_matrix(testy, yhat_classes)\n",
    "# print(matrix)"
   ]
  }
 ],
 "metadata": {
  "kernelspec": {
   "display_name": "hate-speech-classifier",
   "language": "python",
   "name": "python3"
  },
  "language_info": {
   "codemirror_mode": {
    "name": "ipython",
    "version": 3
   },
   "file_extension": ".py",
   "mimetype": "text/x-python",
   "name": "python",
   "nbconvert_exporter": "python",
   "pygments_lexer": "ipython3",
   "version": "3.10.9"
  },
  "orig_nbformat": 4
 },
 "nbformat": 4,
 "nbformat_minor": 2
}
