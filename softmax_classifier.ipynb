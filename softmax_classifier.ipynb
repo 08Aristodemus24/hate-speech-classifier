{
 "cells": [
  {
   "attachments": {},
   "cell_type": "markdown",
   "metadata": {},
   "source": [
    "This notebook aims to train and validate the softmax classifier as to compare its performance to that of an LSTM neural network for hate speech classification\n",
    "\n",
    "# Import Libraries"
   ]
  },
  {
   "cell_type": "code",
   "execution_count": 152,
   "metadata": {},
   "outputs": [
    {
     "name": "stdout",
     "output_type": "stream",
     "text": [
      "The autoreload extension is already loaded. To reload it, use:\n",
      "  %reload_ext autoreload\n"
     ]
    }
   ],
   "source": [
    "import pandas as pd\n",
    "import numpy as np\n",
    "\n",
    "from sklearn.model_selection import train_test_split\n",
    "from sklearn.metrics import accuracy_score\n",
    "from sklearn.metrics import precision_score\n",
    "from sklearn.metrics import recall_score\n",
    "from sklearn.metrics import f1_score\n",
    "from sklearn.metrics import confusion_matrix\n",
    "\n",
    "import tensorflow as tf\n",
    "from tensorflow import one_hot\n",
    "from tensorflow.keras.preprocessing.text import Tokenizer\n",
    "\n",
    "from utilities.data_preprocessors import read_preprocess, series_to_1D_array, construct_embedding_dict, construct_embedding_matrix, sentences_to_avgs\n",
    "from utilities.data_visualizers import train_cross_results_v2, view_final_metrics\n",
    "from models.softmax_regression import SoftmaxRegression\n",
    "\n",
    "%load_ext autoreload\n",
    "%autoreload 2"
   ]
  },
  {
   "attachments": {},
   "cell_type": "markdown",
   "metadata": {},
   "source": [
    "# Load data"
   ]
  },
  {
   "cell_type": "code",
   "execution_count": 153,
   "metadata": {},
   "outputs": [],
   "source": [
    "# 1 for religious and 0 for non religious\n",
    "df = pd.read_csv('./data/hate-speech-data-cleaned.csv', index_col=0)\n",
    "df = read_preprocess(df)\n",
    "\n",
    "all_words = pd.Series(series_to_1D_array(df['comment']))\n",
    "all_unique_words_counts = all_words.value_counts()\n",
    "all_unique_words = all_words.unique()\n"
   ]
  },
  {
   "cell_type": "code",
   "execution_count": 154,
   "metadata": {},
   "outputs": [
    {
     "data": {
      "text/plain": [
       "2    22395\n",
       "1    21644\n",
       "0    19743\n",
       "3     1998\n",
       "Name: label, dtype: int64"
      ]
     },
     "execution_count": 154,
     "metadata": {},
     "output_type": "execute_result"
    }
   ],
   "source": [
    "df['label'].value_counts()"
   ]
  },
  {
   "attachments": {},
   "cell_type": "markdown",
   "metadata": {},
   "source": [
    "# Preprocess data"
   ]
  },
  {
   "cell_type": "code",
   "execution_count": 155,
   "metadata": {},
   "outputs": [
    {
     "data": {
      "text/html": [
       "<div>\n",
       "<style scoped>\n",
       "    .dataframe tbody tr th:only-of-type {\n",
       "        vertical-align: middle;\n",
       "    }\n",
       "\n",
       "    .dataframe tbody tr th {\n",
       "        vertical-align: top;\n",
       "    }\n",
       "\n",
       "    .dataframe thead th {\n",
       "        text-align: right;\n",
       "    }\n",
       "</style>\n",
       "<table border=\"1\" class=\"dataframe\">\n",
       "  <thead>\n",
       "    <tr style=\"text-align: right;\">\n",
       "      <th></th>\n",
       "      <th>comment</th>\n",
       "      <th>label</th>\n",
       "    </tr>\n",
       "  </thead>\n",
       "  <tbody>\n",
       "    <tr>\n",
       "      <th>0</th>\n",
       "      <td>woman complain cleaning house man always take ...</td>\n",
       "      <td>1</td>\n",
       "    </tr>\n",
       "    <tr>\n",
       "      <th>1</th>\n",
       "      <td>boy dat coldtyga dwn bad cuffin dat hoe st place</td>\n",
       "      <td>0</td>\n",
       "    </tr>\n",
       "    <tr>\n",
       "      <th>2</th>\n",
       "      <td>dawg ever fuck bitch start cry confused shit</td>\n",
       "      <td>0</td>\n",
       "    </tr>\n",
       "    <tr>\n",
       "      <th>3</th>\n",
       "      <td>look like tranny</td>\n",
       "      <td>0</td>\n",
       "    </tr>\n",
       "    <tr>\n",
       "      <th>4</th>\n",
       "      <td>shit hear might true might faker bitch told ya</td>\n",
       "      <td>0</td>\n",
       "    </tr>\n",
       "    <tr>\n",
       "      <th>...</th>\n",
       "      <td>...</td>\n",
       "      <td>...</td>\n",
       "    </tr>\n",
       "    <tr>\n",
       "      <th>65775</th>\n",
       "      <td>from the midnight sun where the hot spring blow</td>\n",
       "      <td>1</td>\n",
       "    </tr>\n",
       "    <tr>\n",
       "      <th>65776</th>\n",
       "      <td>do not say am not your type</td>\n",
       "      <td>1</td>\n",
       "    </tr>\n",
       "    <tr>\n",
       "      <th>65777</th>\n",
       "      <td>and therefor never send to know for whom the b...</td>\n",
       "      <td>1</td>\n",
       "    </tr>\n",
       "    <tr>\n",
       "      <th>65778</th>\n",
       "      <td>and cannot stand anoth day</td>\n",
       "      <td>1</td>\n",
       "    </tr>\n",
       "    <tr>\n",
       "      <th>65779</th>\n",
       "      <td>all valu unless otherwis state are in american...</td>\n",
       "      <td>1</td>\n",
       "    </tr>\n",
       "  </tbody>\n",
       "</table>\n",
       "<p>65780 rows × 2 columns</p>\n",
       "</div>"
      ],
      "text/plain": [
       "                                                 comment  label\n",
       "0      woman complain cleaning house man always take ...      1\n",
       "1       boy dat coldtyga dwn bad cuffin dat hoe st place      0\n",
       "2           dawg ever fuck bitch start cry confused shit      0\n",
       "3                                       look like tranny      0\n",
       "4         shit hear might true might faker bitch told ya      0\n",
       "...                                                  ...    ...\n",
       "65775    from the midnight sun where the hot spring blow      1\n",
       "65776                        do not say am not your type      1\n",
       "65777  and therefor never send to know for whom the b...      1\n",
       "65778                         and cannot stand anoth day      1\n",
       "65779  all valu unless otherwis state are in american...      1\n",
       "\n",
       "[65780 rows x 2 columns]"
      ]
     },
     "execution_count": 155,
     "metadata": {},
     "output_type": "execute_result"
    }
   ],
   "source": [
    "# rejoin the comment columns values of lists of words to sentences\n",
    "df['comment'] = df['comment'].apply(lambda comment: \" \".join(comment))\n",
    "df"
   ]
  },
  {
   "cell_type": "code",
   "execution_count": 156,
   "metadata": {},
   "outputs": [
    {
     "data": {
      "text/plain": [
       "array([[0., 1., 0., 0.],\n",
       "       [1., 0., 0., 0.],\n",
       "       [1., 0., 0., 0.],\n",
       "       ...,\n",
       "       [0., 1., 0., 0.],\n",
       "       [0., 1., 0., 0.],\n",
       "       [0., 1., 0., 0.]])"
      ]
     },
     "execution_count": 156,
     "metadata": {},
     "output_type": "execute_result"
    }
   ],
   "source": [
    "# at the same time one hot encode the y labels/classes\n",
    "len_unique_labels = len(df['label'].unique())\n",
    "Y_oh = one_hot(df['label'], len_unique_labels, dtype=tf.float64).numpy()\n",
    "Y_oh"
   ]
  },
  {
   "attachments": {},
   "cell_type": "markdown",
   "metadata": {},
   "source": [
    "# Retrieving and assigning important variables for training classifier"
   ]
  },
  {
   "cell_type": "code",
   "execution_count": 157,
   "metadata": {},
   "outputs": [
    {
     "name": "stdout",
     "output_type": "stream",
     "text": [
      "47916\n"
     ]
    }
   ],
   "source": [
    "sents = df['comment']\n",
    "\n",
    "# get number of all unique words\n",
    "num_words_3 = len(all_unique_words)\n",
    "\n",
    "# instantiate Tokenizer on the total number of all unique words\n",
    "tokenizer = Tokenizer(num_words=num_words_3, split=' ')\n",
    "\n",
    "# call .fit_on_texts to create the word_index and index_word dicts\n",
    "tokenizer.fit_on_texts(sents)\n",
    "\n",
    "# save the tokenizer dictionaries for use later when loading GloVe embeddings\n",
    "word_to_index = tokenizer.word_index\n",
    "index_to_word = tokenizer.index_word\n",
    "print(len(word_to_index))\n",
    "# print(word_to_index)"
   ]
  },
  {
   "cell_type": "code",
   "execution_count": 158,
   "metadata": {},
   "outputs": [
    {
     "name": "stderr",
     "output_type": "stream",
     "text": [
      "100%|██████████| 47916/47916 [00:00<00:00, 243380.09it/s]\n"
     ]
    }
   ],
   "source": [
    "# important variables\n",
    "\n",
    "# includes oov words\n",
    "emb_dict, emb_vec_len = construct_embedding_dict('./embeddings/glove.42B.300d.txt', word_to_index)\n",
    "emb_matrix = construct_embedding_matrix(word_to_index, emb_dict, emb_vec_len)"
   ]
  },
  {
   "attachments": {},
   "cell_type": "markdown",
   "metadata": {},
   "source": [
    "# Transform all sentences to word vectors"
   ]
  },
  {
   "cell_type": "code",
   "execution_count": 159,
   "metadata": {},
   "outputs": [],
   "source": [
    "vect_sents = sentences_to_avgs(sents, emb_dict)"
   ]
  },
  {
   "cell_type": "code",
   "execution_count": 160,
   "metadata": {},
   "outputs": [
    {
     "data": {
      "text/plain": [
       "array([[ 0.00396263,  0.36776125, -0.04045763, ..., -0.06078575,\n",
       "         0.09397175, -0.05599563],\n",
       "       [ 0.29468613,  0.39194278,  0.03957122, ..., -0.03101056,\n",
       "         0.32691778,  0.10542444],\n",
       "       [-0.30736394,  0.26374987, -0.06718987, ...,  0.0969691 ,\n",
       "         0.08005263,  0.15465625],\n",
       "       ...,\n",
       "       [-0.152688  , -0.13310289, -0.10236191, ..., -0.16498182,\n",
       "        -0.04798355,  0.04919357],\n",
       "       [-0.0755652 ,  0.0974086 ,  0.1262868 , ..., -0.073394  ,\n",
       "        -0.1070248 ,  0.246028  ],\n",
       "       [ 0.009189  ,  0.167159  ,  0.03203911, ..., -0.15171311,\n",
       "         0.11298801, -0.13568356]])"
      ]
     },
     "execution_count": 160,
     "metadata": {},
     "output_type": "execute_result"
    }
   ],
   "source": [
    "vect_sents"
   ]
  },
  {
   "cell_type": "code",
   "execution_count": 161,
   "metadata": {},
   "outputs": [
    {
     "data": {
      "text/plain": [
       "(65780, 300)"
      ]
     },
     "execution_count": 161,
     "metadata": {},
     "output_type": "execute_result"
    }
   ],
   "source": [
    "vect_sents.shape"
   ]
  },
  {
   "cell_type": "code",
   "execution_count": 162,
   "metadata": {},
   "outputs": [
    {
     "data": {
      "text/plain": [
       "(65780, 4)"
      ]
     },
     "execution_count": 162,
     "metadata": {},
     "output_type": "execute_result"
    }
   ],
   "source": [
    "Y_oh.shape"
   ]
  },
  {
   "cell_type": "code",
   "execution_count": 163,
   "metadata": {},
   "outputs": [],
   "source": [
    "# split data into training, validation, adn testing\n",
    "train_seqs, _seqs, train_labels, _labels = train_test_split(vect_sents, Y_oh, test_size=0.3, random_state=0)\n",
    "val_seqs, test_seqs, val_labels, test_labels = train_test_split(_seqs, _labels, test_size=0.3, random_state=0)"
   ]
  },
  {
   "cell_type": "code",
   "execution_count": 164,
   "metadata": {},
   "outputs": [
    {
     "data": {
      "text/plain": [
       "dtype('float64')"
      ]
     },
     "execution_count": 164,
     "metadata": {},
     "output_type": "execute_result"
    }
   ],
   "source": [
    "Y_oh.dtype"
   ]
  },
  {
   "cell_type": "code",
   "execution_count": 165,
   "metadata": {},
   "outputs": [
    {
     "data": {
      "text/plain": [
       "dtype('float64')"
      ]
     },
     "execution_count": 165,
     "metadata": {},
     "output_type": "execute_result"
    }
   ],
   "source": [
    "vect_sents.dtype"
   ]
  },
  {
   "cell_type": "code",
   "execution_count": 166,
   "metadata": {},
   "outputs": [
    {
     "name": "stdout",
     "output_type": "stream",
     "text": [
      "epoch 0 - train_loss: 197960.28760035883 - train_categorical_accuracy: 37.05% - val_loss: 58228.85991418485 - val_categorical_accuracy: 36.97%\n",
      "epoch 500 - train_loss: 25791.686907042713 - train_categorical_accuracy: 78.76% - val_loss: 8029.737430494384 - val_categorical_accuracy: 78.35%\n",
      "epoch 1000 - train_loss: 25413.083976972677 - train_categorical_accuracy: 79.20% - val_loss: 7948.1308462730485 - val_categorical_accuracy: 78.40%\n",
      "epoch 1500 - train_loss: 25359.158805255596 - train_categorical_accuracy: 79.20% - val_loss: 7949.035906417577 - val_categorical_accuracy: 78.32%\n",
      "epoch 2000 - train_loss: 25345.637932404486 - train_categorical_accuracy: 79.21% - val_loss: 7953.746322245927 - val_categorical_accuracy: 78.25%\n",
      "epoch 2500 - train_loss: 25340.21434740853 - train_categorical_accuracy: 79.20% - val_loss: 7957.0001477514425 - val_categorical_accuracy: 78.28%\n",
      "epoch 3000 - train_loss: 25337.765022271185 - train_categorical_accuracy: 79.19% - val_loss: 7959.148873666625 - val_categorical_accuracy: 78.29%\n",
      "epoch 3500 - train_loss: 25336.810947781043 - train_categorical_accuracy: 79.21% - val_loss: 7960.655476491562 - val_categorical_accuracy: 78.30%\n",
      "epoch 4000 - train_loss: 25337.139165879948 - train_categorical_accuracy: 79.23% - val_loss: 7960.620900384007 - val_categorical_accuracy: 78.32%\n",
      "epoch 4500 - train_loss: 25336.130976139157 - train_categorical_accuracy: 79.18% - val_loss: 7961.611795096798 - val_categorical_accuracy: 78.27%\n",
      "epoch 4999 - train_loss: 25335.998484820615 - train_categorical_accuracy: 79.19% - val_loss: 7961.80044057149 - val_categorical_accuracy: 78.27%\n"
     ]
    }
   ],
   "source": [
    "model = SoftmaxRegression(train_seqs, train_labels, val_seqs, val_labels, lambda_=0.7)\n",
    "softmax_history = model.train(show_vars=False)"
   ]
  },
  {
   "cell_type": "code",
   "execution_count": 167,
   "metadata": {},
   "outputs": [],
   "source": [
    "# build the dictionary of results based on metric history of both models\n",
    "softmax_results = {}\n",
    "for metric in ['train_loss', 'train_categorical_accuracy', 'val_loss', 'val_categorical_accuracy']:\n",
    "    if metric not in softmax_results:\n",
    "        softmax_results[metric] = softmax_history['history'][metric]"
   ]
  },
  {
   "cell_type": "code",
   "execution_count": 168,
   "metadata": {},
   "outputs": [
    {
     "data": {
      "image/png": "[encoded data removed]",
      "text/plain": [
       "<Figure size 1500x1000 with 1 Axes>"
      ]
     },
     "metadata": {},
     "output_type": "display_data"
    }
   ],
   "source": [
    "train_cross_results_v2(softmax_results, epochs=softmax_history['epoch'], img_title='softmax regression classifier results')"
   ]
  },
  {
   "cell_type": "code",
   "execution_count": 169,
   "metadata": {},
   "outputs": [
    {
     "name": "stdout",
     "output_type": "stream",
     "text": [
      "\n",
      "SOFTMAX REGRESSION CLASSIFIER RESULTS:\n",
      "train_loss: 25335.998484820615\n",
      "train_categorical_accuracy: 0.7918603135994441\n",
      "val_loss: 7961.80044057149\n",
      "val_categorical_accuracy: 0.782668500687758\n"
     ]
    }
   ],
   "source": [
    "# display values from last epoch of baseline model\n",
    "view_final_metrics(softmax_results, 'SOFTMAX REGRESSION CLASSIFIER RESULTS')"
   ]
  },
  {
   "cell_type": "code",
   "execution_count": 170,
   "metadata": {},
   "outputs": [
    {
     "name": "stdout",
     "output_type": "stream",
     "text": [
      "tf.Tensor([0. 1. 0. 0.], shape=(4,), dtype=float32)\n",
      "[0. 1. 0. 0.]\n",
      "Accuracy: 0.778754\n",
      "Precision: 0.778754\n",
      "Recall: 0.783527\n",
      "F1 score: 0.789113\n"
     ]
    }
   ],
   "source": [
    "# bug of accuracy precision recall and f1 score being all athe same: https://stackoverflow.com/questions/62792001/precision-and-recall-are-the-same-within-a-model\n",
    "# Looking at the documentation for these scores, it appears like they should all come out the same when you are using 'micro'.\n",
    "\n",
    "# They are all counting the fraction of times that you get the correct label.\n",
    "\n",
    "# See the examples:\n",
    "\n",
    "# https://scikit-learn.org/stable/modules/generated/sklearn.metrics.accuracy_score.html\n",
    "\n",
    "# https://scikit-learn.org/stable/modules/generated/sklearn.metrics.f1_score.html\n",
    "\n",
    "# https://scikit-learn.org/stable/modules/generated/sklearn.metrics.precision_score.html\n",
    "\n",
    "# https://scikit-learn.org/stable/modules/generated/sklearn.metrics.recall_score.html\n",
    "\n",
    "# In fact in the last three they all give the same example and of course get the same score.\n",
    "# https://stackoverflow.com/questions/31421413/how-to-compute-precision-recall-accuracy-and-f1-score-for-the-multiclass-case\n",
    "# https://machinelearningmastery.com/precision-recall-and-f-measure-for-imbalanced-classification/\n",
    "\n",
    "\n",
    "# predict probabilities for test set\n",
    "Y_pred = model.predict(test_seqs)\n",
    "print(Y_pred[0])\n",
    "print(test_labels[0])\n",
    "\n",
    "# accuracy: (tp + tn) / (p + n)\n",
    "accuracy = accuracy_score(test_labels, Y_pred)\n",
    "print('Accuracy: %f' % accuracy)\n",
    "\n",
    "# precision tp / (tp + fp)\n",
    "precision = precision_score(test_labels, Y_pred, average='micro')\n",
    "print('Precision: %f' % precision)\n",
    "\n",
    "# recall: tp / (tp + fn)\n",
    "recall = recall_score(test_labels, Y_pred, average='macro')\n",
    "print('Recall: %f' % recall)\n",
    "\n",
    "# f1: 2 tp / (2 tp + fp + fn)\n",
    "f1 = f1_score(test_labels, Y_pred, average='macro')\n",
    "print('F1 score: %f' % f1)\n",
    "\n",
    "# matrix = confusion_matrix(test_labels, Y_pred)\n",
    "# print(matrix)"
   ]
  },
  {
   "cell_type": "code",
   "execution_count": null,
   "metadata": {},
   "outputs": [],
   "source": []
  }
 ],
 "metadata": {
  "kernelspec": {
   "display_name": "hate-speech-classifier",
   "language": "python",
   "name": "python3"
  },
  "language_info": {
   "codemirror_mode": {
    "name": "ipython",
    "version": 3
   },
   "file_extension": ".py",
   "mimetype": "text/x-python",
   "name": "python",
   "nbconvert_exporter": "python",
   "pygments_lexer": "ipython3",
   "version": "3.10.9"
  },
  "orig_nbformat": 4
 },
 "nbformat": 4,
 "nbformat_minor": 2
}
